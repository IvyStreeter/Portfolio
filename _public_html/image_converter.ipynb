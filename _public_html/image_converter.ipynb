{
 "cells": [
  {
   "cell_type": "code",
   "execution_count": null,
   "id": "a81c9d62",
   "metadata": {},
   "outputs": [
    {
     "name": "stdout",
     "output_type": "stream",
     "text": [
      "Collecting Pillow\n",
      "  Downloading pillow-11.3.0-cp312-cp312-macosx_11_0_arm64.whl.metadata (9.0 kB)\n",
      "Downloading pillow-11.3.0-cp312-cp312-macosx_11_0_arm64.whl (4.7 MB)\n",
      "\u001b[2K   \u001b[90m━━━━━━━━━━━━━━━━━━━━━━━━━━━━━━━━━━━━━━━━\u001b[0m \u001b[32m4.7/4.7 MB\u001b[0m \u001b[31m44.9 MB/s\u001b[0m eta \u001b[36m0:00:00\u001b[0m\n",
      "\u001b[?25hInstalling collected packages: Pillow\n",
      "Successfully installed Pillow-11.3.0\n"
     ]
    }
   ],
   "source": [
    "# !pip install Pillow"
   ]
  },
  {
   "cell_type": "code",
   "execution_count": 5,
   "id": "37d7e6d1",
   "metadata": {},
   "outputs": [],
   "source": [
    "from PIL import Image\n",
    "\n",
    "# Load the black icon image\n",
    "img = Image.open('images/X.png').convert('RGBA')\n",
    "pixels = img.load()\n",
    "\n",
    "target_color = (128, 128, 128, 255)  # Gray color\n",
    "\n",
    "for y in range(img.height):\n",
    "    for x in range(img.width):\n",
    "        r, g, b, a = pixels[x, y]\n",
    "        # Recolor pixels that are dark (not just black) and opaque enough\n",
    "        if a > 0 and r < 100 and g < 100 and b < 100:\n",
    "            pixels[x, y] = (*target_color[:3], a)  # Preserve original alpha\n",
    "\n",
    "img.save('icon_gray_improved.png')"
   ]
  },
  {
   "cell_type": "code",
   "execution_count": 6,
   "id": "d9e09c1f",
   "metadata": {},
   "outputs": [],
   "source": [
    "img = Image.open('images/BlueSky.png').convert('RGBA')\n",
    "pixels = img.load()\n",
    "\n",
    "target_color = (128, 128, 128, 255)  # Gray color\n",
    "\n",
    "for y in range(img.height):\n",
    "    for x in range(img.width):\n",
    "        r, g, b, a = pixels[x, y]\n",
    "        # Change dark pixels to gray, preserving alpha\n",
    "        if a > 0 and r < 100 and g < 100 and b < 100:\n",
    "            pixels[x, y] = (*target_color[:3], a)\n",
    "\n",
    "img.save('BlueSky.png')"
   ]
  },
  {
   "cell_type": "code",
   "execution_count": null,
   "id": "5197d79d",
   "metadata": {},
   "outputs": [],
   "source": []
  }
 ],
 "metadata": {
  "kernelspec": {
   "display_name": "r-env",
   "language": "python",
   "name": "python3"
  },
  "language_info": {
   "codemirror_mode": {
    "name": "ipython",
    "version": 3
   },
   "file_extension": ".py",
   "mimetype": "text/x-python",
   "name": "python",
   "nbconvert_exporter": "python",
   "pygments_lexer": "ipython3",
   "version": "3.12.10"
  }
 },
 "nbformat": 4,
 "nbformat_minor": 5
}
